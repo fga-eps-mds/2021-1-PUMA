{
 "cells": [
  {
   "cell_type": "markdown",
   "metadata": {},
   "source": [
    "# Analytics\n",
    "\n",
    "**Date: 2021/1**\n",
    "\n",
    "**SUMMARY:**\n",
    "    \n",
    "   * This notebook represents the project quality analysis of the date exposed right above\n",
    "    \n",
    "### TEAM:\n",
    "\n",
    "**Semester: 2021/1**\n",
    "\n",
    "**Professor: Hilmer Neri**\n",
    "\n",
    "**Members:**\n",
    "\n",
    "* Artur\n",
    "* Eduardo\n",
    "* Gabriel\n",
    "* Levi\n",
    "* Luis\n",
    "* Joao\n",
    "* Nícolas\n",
    "\n",
    "### LIBRARIES"
   ]
  },
  {
   "cell_type": "code",
   "execution_count": 40,
   "metadata": {},
   "outputs": [],
   "source": [
    "import requests\n",
    "import json\n",
    "import utils.constants as CONST\n",
    "import utils.widgets as WDG\n",
    "import ipywidgets as widgets\n",
    "import time\n",
    "import pandas as pd\n",
    "from glob import glob\n",
    "import matplotlib.pyplot as plt\n",
    "import os"
   ]
  },
  {
   "cell_type": "markdown",
   "metadata": {},
   "source": [
    "#### Dataframe Config"
   ]
  },
  {
   "cell_type": "code",
   "execution_count": 2,
   "metadata": {},
   "outputs": [],
   "source": [
    "pd.set_option(\"display.max_rows\", None, \"display.max_columns\", None)"
   ]
  },
  {
   "cell_type": "markdown",
   "metadata": {},
   "source": [
    "### **SonarCloud**\n",
    "\n",
    "**Path to metrics files: ../analytics-raw-data/**"
   ]
  },
  {
   "cell_type": "code",
   "execution_count": 3,
   "metadata": {},
   "outputs": [],
   "source": [
    "jsons = glob('../analytics-raw-data/*.json')"
   ]
  },
  {
   "cell_type": "code",
   "execution_count": 34,
   "metadata": {},
   "outputs": [],
   "source": [
    "def read_json(json_):\n",
    "    \n",
    "    with open(json_) as json_file:\n",
    "        json_obj = json.load(json_file)\n",
    "        \n",
    "    return json_obj\n",
    "\n",
    "def create_base_df(json_list):\n",
    "    \n",
    "    df = pd.DataFrame()\n",
    "    \n",
    "    for i in json_list:\n",
    "        \n",
    "        data, file_name = read_json(i)\n",
    "        \n",
    "        df_ = pd.DataFrame(data['baseComponent']['measures'])\n",
    "        \n",
    "                          \n",
    "        df_['file_name'] = file_name\n",
    "                  \n",
    "        df = df.append(df_, ignore_index=True)\n",
    "        \n",
    "    aux_df = df['file_name'].str.split(r'fga-eps-mds-2021_1-PUMA-([a-zA-Z]+)-([\\d-]+).json', expand=True)\n",
    "    \n",
    "    df['repository'] = aux_df[1]\n",
    "    \n",
    "    df['date'] = aux_df[2]\n",
    "    \n",
    "    df = df.sort_values(by=['repository', 'date']).drop(['file_name'], axis=1)\n",
    "\n",
    "    return df"
   ]
  },
  {
   "cell_type": "code",
   "execution_count": 5,
   "metadata": {},
   "outputs": [],
   "source": [
    "df = create_base_df(jsons)"
   ]
  },
  {
   "cell_type": "code",
   "execution_count": 6,
   "metadata": {},
   "outputs": [
    {
     "data": {
      "text/html": [
       "<div>\n",
       "<style scoped>\n",
       "    .dataframe tbody tr th:only-of-type {\n",
       "        vertical-align: middle;\n",
       "    }\n",
       "\n",
       "    .dataframe tbody tr th {\n",
       "        vertical-align: top;\n",
       "    }\n",
       "\n",
       "    .dataframe thead th {\n",
       "        text-align: right;\n",
       "    }\n",
       "</style>\n",
       "<table border=\"1\" class=\"dataframe\">\n",
       "  <thead>\n",
       "    <tr style=\"text-align: right;\">\n",
       "      <th></th>\n",
       "      <th>metric</th>\n",
       "      <th>value</th>\n",
       "      <th>bestValue</th>\n",
       "      <th>repository</th>\n",
       "      <th>date</th>\n",
       "    </tr>\n",
       "  </thead>\n",
       "  <tbody>\n",
       "    <tr>\n",
       "      <th>8</th>\n",
       "      <td>duplicated_lines_density</td>\n",
       "      <td>0.0</td>\n",
       "      <td>True</td>\n",
       "      <td>AlocateService</td>\n",
       "      <td>10-19-2021-01-08</td>\n",
       "    </tr>\n",
       "    <tr>\n",
       "      <th>9</th>\n",
       "      <td>functions</td>\n",
       "      <td>4</td>\n",
       "      <td>NaN</td>\n",
       "      <td>AlocateService</td>\n",
       "      <td>10-19-2021-01-08</td>\n",
       "    </tr>\n",
       "    <tr>\n",
       "      <th>10</th>\n",
       "      <td>security_rating</td>\n",
       "      <td>1.0</td>\n",
       "      <td>True</td>\n",
       "      <td>AlocateService</td>\n",
       "      <td>10-19-2021-01-08</td>\n",
       "    </tr>\n",
       "    <tr>\n",
       "      <th>11</th>\n",
       "      <td>files</td>\n",
       "      <td>4</td>\n",
       "      <td>NaN</td>\n",
       "      <td>AlocateService</td>\n",
       "      <td>10-19-2021-01-08</td>\n",
       "    </tr>\n",
       "    <tr>\n",
       "      <th>12</th>\n",
       "      <td>complexity</td>\n",
       "      <td>9</td>\n",
       "      <td>NaN</td>\n",
       "      <td>AlocateService</td>\n",
       "      <td>10-19-2021-01-08</td>\n",
       "    </tr>\n",
       "    <tr>\n",
       "      <th>13</th>\n",
       "      <td>ncloc</td>\n",
       "      <td>204</td>\n",
       "      <td>NaN</td>\n",
       "      <td>AlocateService</td>\n",
       "      <td>10-19-2021-01-08</td>\n",
       "    </tr>\n",
       "    <tr>\n",
       "      <th>14</th>\n",
       "      <td>reliability_rating</td>\n",
       "      <td>1.0</td>\n",
       "      <td>True</td>\n",
       "      <td>AlocateService</td>\n",
       "      <td>10-19-2021-01-08</td>\n",
       "    </tr>\n",
       "    <tr>\n",
       "      <th>15</th>\n",
       "      <td>comment_lines_density</td>\n",
       "      <td>0.0</td>\n",
       "      <td>False</td>\n",
       "      <td>AlocateService</td>\n",
       "      <td>10-19-2021-01-08</td>\n",
       "    </tr>\n",
       "    <tr>\n",
       "      <th>104</th>\n",
       "      <td>duplicated_lines_density</td>\n",
       "      <td>0.0</td>\n",
       "      <td>True</td>\n",
       "      <td>ApiGateway</td>\n",
       "      <td>10-06-2021-15-49</td>\n",
       "    </tr>\n",
       "    <tr>\n",
       "      <th>105</th>\n",
       "      <td>functions</td>\n",
       "      <td>21</td>\n",
       "      <td>NaN</td>\n",
       "      <td>ApiGateway</td>\n",
       "      <td>10-06-2021-15-49</td>\n",
       "    </tr>\n",
       "  </tbody>\n",
       "</table>\n",
       "</div>"
      ],
      "text/plain": [
       "                       metric value bestValue      repository  \\\n",
       "8    duplicated_lines_density   0.0      True  AlocateService   \n",
       "9                   functions     4       NaN  AlocateService   \n",
       "10            security_rating   1.0      True  AlocateService   \n",
       "11                      files     4       NaN  AlocateService   \n",
       "12                 complexity     9       NaN  AlocateService   \n",
       "13                      ncloc   204       NaN  AlocateService   \n",
       "14         reliability_rating   1.0      True  AlocateService   \n",
       "15      comment_lines_density   0.0     False  AlocateService   \n",
       "104  duplicated_lines_density   0.0      True      ApiGateway   \n",
       "105                 functions    21       NaN      ApiGateway   \n",
       "\n",
       "                 date  \n",
       "8    10-19-2021-01-08  \n",
       "9    10-19-2021-01-08  \n",
       "10   10-19-2021-01-08  \n",
       "11   10-19-2021-01-08  \n",
       "12   10-19-2021-01-08  \n",
       "13   10-19-2021-01-08  \n",
       "14   10-19-2021-01-08  \n",
       "15   10-19-2021-01-08  \n",
       "104  10-06-2021-15-49  \n",
       "105  10-06-2021-15-49  "
      ]
     },
     "execution_count": 6,
     "metadata": {},
     "output_type": "execute_result"
    }
   ],
   "source": [
    "df.head(10)"
   ]
  },
  {
   "cell_type": "code",
   "execution_count": 37,
   "metadata": {},
   "outputs": [
    {
     "data": {
      "text/plain": [
       "12"
      ]
     },
     "execution_count": 37,
     "metadata": {},
     "output_type": "execute_result"
    }
   ],
   "source": [
    "metric_list = ['files',\n",
    "               'functions',\n",
    "               'complexity',\n",
    "               'comment_lines_density',\n",
    "               'duplicated_lines_density',\n",
    "               'coverage',\n",
    "               'ncloc',\n",
    "               'security_rating',\n",
    "               'tests',\n",
    "               'test_success_density',\n",
    "               'test_execution_time',\n",
    "               'reliability_rating']\n",
    "\n",
    "len(metric_list)"
   ]
  },
  {
   "cell_type": "code",
   "execution_count": 45,
   "metadata": {},
   "outputs": [],
   "source": [
    "def metric_per_file(json):\n",
    "    \n",
    "    file_json = []\n",
    "    \n",
    "    for component in json['components']:\n",
    "        if component['qualifier'] == 'FIL':\n",
    "            file_json.append(component)\n",
    "            \n",
    "    return file_json\n",
    "\n",
    "def generate_file_dataframe_per_release(metric_list, json, language_extension):\n",
    "    \n",
    "    df_columns = metric_list\n",
    "    df = pd.DataFrame(columns = df_columns)\n",
    "    \n",
    "    for file in json:\n",
    "        try:\n",
    "            if file['language'] == language_extension:\n",
    "                for measure in file['measures']:\n",
    "                    df.at[file['path'], measure['metric']] = measure['value']\n",
    "        except:\n",
    "            pass\n",
    "        \n",
    "    df.reset_index(inplace = True)\n",
    "    df = df.rename({'index': 'path'}, axis=1).drop(['files'], axis=1)\n",
    "\n",
    "    return df\n",
    "\n",
    "def create_file_df(json_list):\n",
    "    \n",
    "    df = pd.DataFrame()\n",
    "\n",
    "    for i in json_list:\n",
    "\n",
    "        file_component = read_json(i)\n",
    "        \n",
    "        file_component_data = metric_per_file(file_component)\n",
    "\n",
    "        file_component_df = generate_file_dataframe_per_release(metric_list, file_component_data, language_extension = 'js')\n",
    "\n",
    "        file_component_df['filename'] = os.path.basename(i)\n",
    "\n",
    "        df = df.append(file_component_df, ignore_index=True)\n",
    "        \n",
    "    aux_df = df['filename'].str.split(r\"fga-eps-mds-2021_1-PUMA-([a-zA-Z]+)-([\\d-]+).json\", expand=True)\n",
    "    \n",
    "    df['repository'] = aux_df[1]\n",
    "    \n",
    "    df['version'] = aux_df[2]\n",
    "    \n",
    "    df = df.sort_values(by=['repository', 'version']).drop(['filename'], axis=1)\n",
    "        \n",
    "    return df"
   ]
  },
  {
   "cell_type": "code",
   "execution_count": 46,
   "metadata": {},
   "outputs": [],
   "source": [
    "file_component = create_file_df(jsons)"
   ]
  },
  {
   "cell_type": "code",
   "execution_count": 58,
   "metadata": {},
   "outputs": [],
   "source": [
    "dfs = {}\n",
    "for repo in REPOS:\n",
    "    dfs[repo] = file_component[file_component['repository'] == repo]"
   ]
  },
  {
   "cell_type": "code",
   "execution_count": 59,
   "metadata": {},
   "outputs": [
    {
     "data": {
      "text/html": [
       "<div>\n",
       "<style scoped>\n",
       "    .dataframe tbody tr th:only-of-type {\n",
       "        vertical-align: middle;\n",
       "    }\n",
       "\n",
       "    .dataframe tbody tr th {\n",
       "        vertical-align: top;\n",
       "    }\n",
       "\n",
       "    .dataframe thead th {\n",
       "        text-align: right;\n",
       "    }\n",
       "</style>\n",
       "<table border=\"1\" class=\"dataframe\">\n",
       "  <thead>\n",
       "    <tr style=\"text-align: right;\">\n",
       "      <th></th>\n",
       "      <th>path</th>\n",
       "      <th>functions</th>\n",
       "      <th>complexity</th>\n",
       "      <th>comment_lines_density</th>\n",
       "      <th>duplicated_lines_density</th>\n",
       "      <th>coverage</th>\n",
       "      <th>ncloc</th>\n",
       "      <th>security_rating</th>\n",
       "      <th>tests</th>\n",
       "      <th>test_success_density</th>\n",
       "      <th>test_execution_time</th>\n",
       "      <th>reliability_rating</th>\n",
       "      <th>repository</th>\n",
       "      <th>version</th>\n",
       "    </tr>\n",
       "  </thead>\n",
       "  <tbody>\n",
       "    <tr>\n",
       "      <th>11</th>\n",
       "      <td>dbconfig/dbConfig.js</td>\n",
       "      <td>3</td>\n",
       "      <td>8</td>\n",
       "      <td>0.0</td>\n",
       "      <td>0.0</td>\n",
       "      <td>NaN</td>\n",
       "      <td>44</td>\n",
       "      <td>1.0</td>\n",
       "      <td>NaN</td>\n",
       "      <td>100.0</td>\n",
       "      <td>NaN</td>\n",
       "      <td>1.0</td>\n",
       "      <td>AlocateService</td>\n",
       "      <td>10-19-2021-01-08</td>\n",
       "    </tr>\n",
       "    <tr>\n",
       "      <th>12</th>\n",
       "      <td>dbconfig/dbSchema.js</td>\n",
       "      <td>0</td>\n",
       "      <td>0</td>\n",
       "      <td>0.0</td>\n",
       "      <td>0.0</td>\n",
       "      <td>NaN</td>\n",
       "      <td>146</td>\n",
       "      <td>1.0</td>\n",
       "      <td>NaN</td>\n",
       "      <td>100.0</td>\n",
       "      <td>NaN</td>\n",
       "      <td>1.0</td>\n",
       "      <td>AlocateService</td>\n",
       "      <td>10-19-2021-01-08</td>\n",
       "    </tr>\n",
       "    <tr>\n",
       "      <th>13</th>\n",
       "      <td>index.js</td>\n",
       "      <td>1</td>\n",
       "      <td>1</td>\n",
       "      <td>0.0</td>\n",
       "      <td>0.0</td>\n",
       "      <td>NaN</td>\n",
       "      <td>14</td>\n",
       "      <td>1.0</td>\n",
       "      <td>NaN</td>\n",
       "      <td>100.0</td>\n",
       "      <td>NaN</td>\n",
       "      <td>1.0</td>\n",
       "      <td>AlocateService</td>\n",
       "      <td>10-19-2021-01-08</td>\n",
       "    </tr>\n",
       "    <tr>\n",
       "      <th>146</th>\n",
       "      <td>src/config/environment.js</td>\n",
       "      <td>1</td>\n",
       "      <td>2</td>\n",
       "      <td>0.0</td>\n",
       "      <td>0.0</td>\n",
       "      <td>NaN</td>\n",
       "      <td>9</td>\n",
       "      <td>1.0</td>\n",
       "      <td>NaN</td>\n",
       "      <td>100.0</td>\n",
       "      <td>NaN</td>\n",
       "      <td>1.0</td>\n",
       "      <td>ApiGateway</td>\n",
       "      <td>10-06-2021-15-49</td>\n",
       "    </tr>\n",
       "    <tr>\n",
       "      <th>147</th>\n",
       "      <td>index.js</td>\n",
       "      <td>0</td>\n",
       "      <td>0</td>\n",
       "      <td>0.0</td>\n",
       "      <td>0.0</td>\n",
       "      <td>NaN</td>\n",
       "      <td>11</td>\n",
       "      <td>1.0</td>\n",
       "      <td>NaN</td>\n",
       "      <td>100.0</td>\n",
       "      <td>NaN</td>\n",
       "      <td>1.0</td>\n",
       "      <td>ApiGateway</td>\n",
       "      <td>10-06-2021-15-49</td>\n",
       "    </tr>\n",
       "    <tr>\n",
       "      <th>148</th>\n",
       "      <td>src/routes/router.js</td>\n",
       "      <td>10</td>\n",
       "      <td>10</td>\n",
       "      <td>0.0</td>\n",
       "      <td>0.0</td>\n",
       "      <td>NaN</td>\n",
       "      <td>31</td>\n",
       "      <td>1.0</td>\n",
       "      <td>NaN</td>\n",
       "      <td>100.0</td>\n",
       "      <td>NaN</td>\n",
       "      <td>1.0</td>\n",
       "      <td>ApiGateway</td>\n",
       "      <td>10-06-2021-15-49</td>\n",
       "    </tr>\n",
       "    <tr>\n",
       "      <th>149</th>\n",
       "      <td>src/routes/userRouter.js</td>\n",
       "      <td>10</td>\n",
       "      <td>10</td>\n",
       "      <td>4.7</td>\n",
       "      <td>0.0</td>\n",
       "      <td>NaN</td>\n",
       "      <td>41</td>\n",
       "      <td>1.0</td>\n",
       "      <td>NaN</td>\n",
       "      <td>100.0</td>\n",
       "      <td>NaN</td>\n",
       "      <td>1.0</td>\n",
       "      <td>ApiGateway</td>\n",
       "      <td>10-06-2021-15-49</td>\n",
       "    </tr>\n",
       "    <tr>\n",
       "      <th>85</th>\n",
       "      <td>tests/integrationTests/constants.js</td>\n",
       "      <td>0</td>\n",
       "      <td>0</td>\n",
       "      <td>0.0</td>\n",
       "      <td>0.0</td>\n",
       "      <td>NaN</td>\n",
       "      <td>128</td>\n",
       "      <td>1.0</td>\n",
       "      <td>NaN</td>\n",
       "      <td>100.0</td>\n",
       "      <td>NaN</td>\n",
       "      <td>1.0</td>\n",
       "      <td>ApiGateway</td>\n",
       "      <td>10-19-2021-01-06</td>\n",
       "    </tr>\n",
       "    <tr>\n",
       "      <th>86</th>\n",
       "      <td>src/config/environment.js</td>\n",
       "      <td>1</td>\n",
       "      <td>4</td>\n",
       "      <td>0.0</td>\n",
       "      <td>0.0</td>\n",
       "      <td>NaN</td>\n",
       "      <td>17</td>\n",
       "      <td>1.0</td>\n",
       "      <td>NaN</td>\n",
       "      <td>100.0</td>\n",
       "      <td>NaN</td>\n",
       "      <td>1.0</td>\n",
       "      <td>ApiGateway</td>\n",
       "      <td>10-19-2021-01-06</td>\n",
       "    </tr>\n",
       "    <tr>\n",
       "      <th>87</th>\n",
       "      <td>index.js</td>\n",
       "      <td>0</td>\n",
       "      <td>0</td>\n",
       "      <td>0.0</td>\n",
       "      <td>0.0</td>\n",
       "      <td>NaN</td>\n",
       "      <td>11</td>\n",
       "      <td>1.0</td>\n",
       "      <td>NaN</td>\n",
       "      <td>100.0</td>\n",
       "      <td>NaN</td>\n",
       "      <td>1.0</td>\n",
       "      <td>ApiGateway</td>\n",
       "      <td>10-19-2021-01-06</td>\n",
       "    </tr>\n",
       "  </tbody>\n",
       "</table>\n",
       "</div>"
      ],
      "text/plain": [
       "                                    path functions complexity  \\\n",
       "11                  dbconfig/dbConfig.js         3          8   \n",
       "12                  dbconfig/dbSchema.js         0          0   \n",
       "13                              index.js         1          1   \n",
       "146            src/config/environment.js         1          2   \n",
       "147                             index.js         0          0   \n",
       "148                 src/routes/router.js        10         10   \n",
       "149             src/routes/userRouter.js        10         10   \n",
       "85   tests/integrationTests/constants.js         0          0   \n",
       "86             src/config/environment.js         1          4   \n",
       "87                              index.js         0          0   \n",
       "\n",
       "    comment_lines_density duplicated_lines_density coverage ncloc  \\\n",
       "11                    0.0                      0.0      NaN    44   \n",
       "12                    0.0                      0.0      NaN   146   \n",
       "13                    0.0                      0.0      NaN    14   \n",
       "146                   0.0                      0.0      NaN     9   \n",
       "147                   0.0                      0.0      NaN    11   \n",
       "148                   0.0                      0.0      NaN    31   \n",
       "149                   4.7                      0.0      NaN    41   \n",
       "85                    0.0                      0.0      NaN   128   \n",
       "86                    0.0                      0.0      NaN    17   \n",
       "87                    0.0                      0.0      NaN    11   \n",
       "\n",
       "    security_rating tests test_success_density test_execution_time  \\\n",
       "11              1.0   NaN                100.0                 NaN   \n",
       "12              1.0   NaN                100.0                 NaN   \n",
       "13              1.0   NaN                100.0                 NaN   \n",
       "146             1.0   NaN                100.0                 NaN   \n",
       "147             1.0   NaN                100.0                 NaN   \n",
       "148             1.0   NaN                100.0                 NaN   \n",
       "149             1.0   NaN                100.0                 NaN   \n",
       "85              1.0   NaN                100.0                 NaN   \n",
       "86              1.0   NaN                100.0                 NaN   \n",
       "87              1.0   NaN                100.0                 NaN   \n",
       "\n",
       "    reliability_rating      repository           version  \n",
       "11                 1.0  AlocateService  10-19-2021-01-08  \n",
       "12                 1.0  AlocateService  10-19-2021-01-08  \n",
       "13                 1.0  AlocateService  10-19-2021-01-08  \n",
       "146                1.0      ApiGateway  10-06-2021-15-49  \n",
       "147                1.0      ApiGateway  10-06-2021-15-49  \n",
       "148                1.0      ApiGateway  10-06-2021-15-49  \n",
       "149                1.0      ApiGateway  10-06-2021-15-49  \n",
       "85                 1.0      ApiGateway  10-19-2021-01-06  \n",
       "86                 1.0      ApiGateway  10-19-2021-01-06  \n",
       "87                 1.0      ApiGateway  10-19-2021-01-06  "
      ]
     },
     "execution_count": 59,
     "metadata": {},
     "output_type": "execute_result"
    }
   ],
   "source": [
    "file_component.head(10)"
   ]
  },
  {
   "cell_type": "code",
   "execution_count": 67,
   "metadata": {},
   "outputs": [],
   "source": [
    "def _nloc(df):\n",
    "    ncloc = 0\n",
    "    for each in df['ncloc']:\n",
    "        ncloc += int(each)\n",
    "\n",
    "    return ncloc"
   ]
  },
  {
   "cell_type": "code",
   "execution_count": 49,
   "metadata": {},
   "outputs": [],
   "source": [
    "def m1(df):\n",
    "    return len(df[(df['complexity'].astype(float)/df['functions'].astype(float)) < 10])/len(df)"
   ]
  },
  {
   "cell_type": "code",
   "execution_count": 50,
   "metadata": {},
   "outputs": [],
   "source": [
    "def m2(df):\n",
    "    return len(df[(df['comment_lines_density'].astype(float) > 10) &\\\n",
    "                  (df['comment_lines_density'].astype(float) < 30)])/len(df)"
   ]
  },
  {
   "cell_type": "code",
   "execution_count": 51,
   "metadata": {},
   "outputs": [],
   "source": [
    "def m3(df):\n",
    "    return len(df[(df['duplicated_lines_density'].astype(float) < 5)])/len(df)"
   ]
  },
  {
   "cell_type": "code",
   "execution_count": 52,
   "metadata": {},
   "outputs": [],
   "source": [
    "def m4(df):\n",
    "    return df['test_success_density'].astype(float).median() / 100"
   ]
  },
  {
   "cell_type": "code",
   "execution_count": 53,
   "metadata": {},
   "outputs": [],
   "source": [
    "def m5(df):\n",
    "    return len(df[(df['test_execution_time'].astype(float)) < 300]) / sum(df['tests'].astype(float))"
   ]
  },
  {
   "cell_type": "code",
   "execution_count": 54,
   "metadata": {},
   "outputs": [],
   "source": [
    "def m6(df):\n",
    "    return len(df[(df['coverage'].astype(float) > 60)]) / len(df)"
   ]
  },
  {
   "cell_type": "code",
   "execution_count": 69,
   "metadata": {},
   "outputs": [],
   "source": [
    "def create_metrics(df):\n",
    "    version_vec = df['version'].unique()\n",
    "    \n",
    "    m1_list = []\n",
    "    m2_list = []\n",
    "    m3_list = []\n",
    "    m4_list = []\n",
    "    m5_list = []\n",
    "    m6_list = []\n",
    "    \n",
    "    ncloc_list = []\n",
    "    repository_list = []\n",
    "    version_list = []\n",
    "    \n",
    "    metrics_df = pd.DataFrame()\n",
    "    \n",
    "    for version in version_vec:\n",
    "        \n",
    "        version_df = df[df['version'] == version]\n",
    "        \n",
    "        m1_list.append(m1(version_df))\n",
    "        m2_list.append(m2(version_df))\n",
    "        m3_list.append(m3(version_df))\n",
    "        m4_list.append(m4(version_df))\n",
    "        m5_list.append(m5(version_df))\n",
    "        m6_list.append(m6(version_df))\n",
    "        \n",
    "        ncloc_list.append(_nloc(version_df))\n",
    "        repository_list.append(version_df['repository'].iloc[0])\n",
    "        version_list.append(version)\n",
    "    \n",
    "    metrics_df = pd.DataFrame({\n",
    "            'm1': m1_list,\n",
    "            'm2': m2_list,\n",
    "            'm3': m3_list,\n",
    "            'm4': m4_list,\n",
    "            'm5': m5_list,\n",
    "            'm6': m6_list,\n",
    "            'repository': repository_list, \n",
    "            'version': version_list,\n",
    "            'ncloc': ncloc_list})\n",
    "    \n",
    "    return metrics_df"
   ]
  },
  {
   "cell_type": "code",
   "execution_count": 104,
   "metadata": {},
   "outputs": [],
   "source": [
    "def plot_metrics(df):\n",
    "    fig = plt.figure(figsize=(20, 10))\n",
    "#     ax = subplot(1,1,1)\n",
    "\n",
    "    plt.plot(df['m1'], linewidth=3, marker='o', markersize=10, label='complexity')\n",
    "    plt.plot(df['m2'], linewidth=3, marker='o', markersize=10, label='comment lines')\n",
    "    plt.plot(df['m3'], linewidth=3, marker='o', markersize=10, label='duplicate')\n",
    "    plt.plot(df['m4'], linewidth=3, marker='o', markersize=10, label='test success')\n",
    "    plt.plot(df['m5'], linewidth=3, marker='o', markersize=10, label='test execution time')\n",
    "    plt.plot(df['m6'], linewidth=3, marker='o', markersize=10, label='test coverage')\n",
    "#     handles, labels = ax.get_legend_handles_labels()\n",
    "    fig.legend(loc='lower center')"
   ]
  },
  {
   "cell_type": "code",
   "execution_count": 109,
   "metadata": {},
   "outputs": [
    {
     "data": {
      "image/png": "[encoded data removed]",
      "text/plain": [
       "<Figure size 1440x720 with 1 Axes>"
      ]
     },
     "metadata": {
      "needs_background": "light"
     },
     "output_type": "display_data"
    }
   ],
   "source": [
    "plot_metrics(create_metrics(dfs['ApiGateway']))"
   ]
  },
  {
   "cell_type": "code",
   "execution_count": 110,
   "metadata": {},
   "outputs": [
    {
     "data": {
      "image/png": "[encoded data removed]",
      "text/plain": [
       "<Figure size 1440x720 with 1 Axes>"
      ]
     },
     "metadata": {
      "needs_background": "light"
     },
     "output_type": "display_data"
    }
   ],
   "source": [
    "plot_metrics(create_metrics(dfs['UserService']))"
   ]
  },
  {
   "cell_type": "code",
   "execution_count": 111,
   "metadata": {},
   "outputs": [
    {
     "data": {
      "image/png": "[encoded data removed]",
      "text/plain": [
       "<Figure size 1440x720 with 1 Axes>"
      ]
     },
     "metadata": {
      "needs_background": "light"
     },
     "output_type": "display_data"
    }
   ],
   "source": [
    "plot_metrics(create_metrics(dfs['ProjectService']))"
   ]
  },
  {
   "cell_type": "code",
   "execution_count": 114,
   "metadata": {},
   "outputs": [
    {
     "data": {
      "image/png": "[encoded data removed]",
      "text/plain": [
       "<Figure size 1440x720 with 1 Axes>"
      ]
     },
     "metadata": {
      "needs_background": "light"
     },
     "output_type": "display_data"
    }
   ],
   "source": [
    "plot_metrics(create_metrics(dfs['Frontend']))"
   ]
  },
  {
   "cell_type": "code",
   "execution_count": null,
   "metadata": {},
   "outputs": [],
   "source": []
  }
 ],
 "metadata": {
  "kernelspec": {
   "display_name": "Python 3",
   "language": "python",
   "name": "python3"
  },
  "language_info": {
   "codemirror_mode": {
    "name": "ipython",
    "version": 3
   },
   "file_extension": ".py",
   "mimetype": "text/x-python",
   "name": "python",
   "nbconvert_exporter": "python",
   "pygments_lexer": "ipython3",
   "version": "3.8.5"
  }
 },
 "nbformat": 4,
 "nbformat_minor": 4
}
